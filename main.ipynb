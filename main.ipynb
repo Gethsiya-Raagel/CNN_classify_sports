{
 "cells": [
  {
   "cell_type": "markdown",
   "metadata": {},
   "source": [
    "# Can CNN classify sports? <hr/>\n",
    "Nowadays, I have learnt golf every day, and suddenly I came up with an idea while playing golf. Can CNN classify sports?\n",
    "\n",
    "First, I needed sports data, and I chose sports golf, baseball, soccer, and basketball.\n",
    "\n",
    "I got datas from Google by using this method 'https://www.pyimagesearch.com/2017/12/04/how-to-create-a-deep-learning-dataset-using-google-images/'\n",
    "\n",
    "There is a sample of data per sports.\n",
    "\n",
    "### basketball\n",
    "![basketball](./baketball_sample.PNG)\n",
    "\n",
    "### baseball\n",
    "![basetball](./baseball_sample.PNG)\n",
    "\n",
    "### soccer\n",
    "![soccer](./soccer_sample.PNG)\n",
    "\n",
    "### golf\n",
    "![golf](./golf_sample.PNG)"
   ]
  },
  {
   "cell_type": "markdown",
   "metadata": {},
   "source": [
    "Pretty messy.. but this is somewhat organized. i removed a lot unrecognizable photos include this one\n",
    "\n",
    "### bad one\n",
    "<img src=\"./bad_sample.jpg\" width=\"400\">"
   ]
  },
  {
   "cell_type": "code",
   "execution_count": 1,
   "metadata": {},
   "outputs": [
    {
     "name": "stdout",
     "output_type": "stream",
     "text": [
      "['.ipynb_checkpoints', 'bad_sample.jpg', 'baketball_sample.PNG', 'baseball_sample.PNG', 'golf_sample.PNG', 'main.ipynb', 'soccer_sample.PNG', 'test', 'train']\n"
     ]
    }
   ],
   "source": [
    "import numpy as np \n",
    "import pandas as pd\n",
    "import tensorflow as tf\n",
    "import matplotlib.pyplot as plt\n",
    "import cv2\n",
    "import os\n",
    "import random\n",
    "import datetime\n",
    "print(os.listdir())"
   ]
  },
  {
   "cell_type": "code",
   "execution_count": 2,
   "metadata": {},
   "outputs": [],
   "source": [
    "TRAINING_DIR = './train'\n",
    "TEST_DIR = './test'"
   ]
  },
  {
   "cell_type": "markdown",
   "metadata": {},
   "source": [
    "## Import datas\n",
    "\n",
    "Imported images to 100 x 100 size and made a list of correct answers\n",
    "\n",
    "Data map :\n",
    "\n",
    "soccer : 0\n",
    "\n",
    "baseball : 1\n",
    "\n",
    "basketball : 2\n",
    "\n",
    "golf : 3"
   ]
  },
  {
   "cell_type": "code",
   "execution_count": 3,
   "metadata": {},
   "outputs": [],
   "source": [
    "def get_data(name):\n",
    "    x = []\n",
    "    y = []\n",
    "    \n",
    "    for file in os.listdir(name+'/'):\n",
    "        if file.startswith('soccer'):\n",
    "            value = 0\n",
    "        elif file.startswith('baseball'):\n",
    "            value = 1\n",
    "        elif file.startswith('baketball'):\n",
    "            value = 2\n",
    "        else:\n",
    "            value = 3\n",
    "            \n",
    "        img = cv2.imread(name+'/'+'/'+file)\n",
    "        \n",
    "        if img is not None:\n",
    "            img = cv2.resize(img,(100, 100))\n",
    "            img = np.array(img)\n",
    "            x.append(img)\n",
    "            y.append(value)\n",
    "    return np.array(x), np.array(y)"
   ]
  },
  {
   "cell_type": "code",
   "execution_count": 4,
   "metadata": {},
   "outputs": [],
   "source": [
    "trainx, trainy = get_data(TRAINING_DIR)"
   ]
  },
  {
   "cell_type": "code",
   "execution_count": 5,
   "metadata": {},
   "outputs": [],
   "source": [
    "testx, testy = get_data(TEST_DIR)"
   ]
  },
  {
   "cell_type": "code",
   "execution_count": 6,
   "metadata": {},
   "outputs": [
    {
     "data": {
      "text/plain": [
       "((5443, 100, 100, 3), (1469, 100, 100, 3))"
      ]
     },
     "execution_count": 6,
     "metadata": {},
     "output_type": "execute_result"
    }
   ],
   "source": [
    "trainx.shape, testx.shape"
   ]
  },
  {
   "cell_type": "markdown",
   "metadata": {},
   "source": [
    "## Built Batch Generator"
   ]
  },
  {
   "cell_type": "code",
   "execution_count": 7,
   "metadata": {},
   "outputs": [],
   "source": [
    "class BatchGenerator():\n",
    "    where = 0\n",
    "    \n",
    "    def __init__(self, x, y, batch_size, one_hot = False, nb_classes = 0):\n",
    "        self.nb_classes = nb_classes\n",
    "        self.one_hot = one_hot\n",
    "        self.x_ = x\n",
    "        self.y_ = y\n",
    "        self.batch_size = batch_size\n",
    "        \n",
    "        self.total_batch = int(len(x) / batch_size)\n",
    "        self.x = self.x_[:batch_size,]\n",
    "        self.y = self.y_[:batch_size,]\n",
    "        self.where = batch_size\n",
    "        \n",
    "        if self.one_hot :\n",
    "            self.set_one_hot()\n",
    "\n",
    "    def next_batch(self):\n",
    "        if self.where + self.batch_size > len(self.x_) :\n",
    "            self.where = len(self.x_) - self.where\n",
    "            \n",
    "        self.x = self.x_[self.where:self.where+self.batch_size,]\n",
    "        self.y = self.y_[self.where:self.where+self.batch_size,]\n",
    "        self.where += self.batch_size\n",
    "        \n",
    "        if self.one_hot:\n",
    "            self.set_one_hot()\n",
    "        \n",
    "    def set_one_hot(self):\n",
    "        self.y = np.int32(self.y)\n",
    "        one_hot = np.array(self.y).reshape(-1)\n",
    "        self.y = np.eye(self.nb_classes)[one_hot]"
   ]
  },
  {
   "cell_type": "markdown",
   "metadata": {},
   "source": [
    "## Modeling\n",
    "\n",
    "I was using only simple CNN with Batch Nomalization\n",
    "\n",
    "If you want to know about Batch Nomalization check it out 'https://github.com/che9992/Batch_Normalization'"
   ]
  },
  {
   "cell_type": "code",
   "execution_count": 8,
   "metadata": {},
   "outputs": [],
   "source": [
    "def conv2d(inp, size, kernel_size, stride, scope):\n",
    "    with tf.variable_scope(scope):\n",
    "        return tf.contrib.layers.conv2d(inp, size, kernel_size=kernel_size, stride=stride, activation_fn=None,\n",
    "                                        padding='SAME', reuse=tf.AUTO_REUSE, scope = scope)\n",
    "    \n",
    "def relu(inp, phase, scope):\n",
    "    with tf.variable_scope(scope):\n",
    "        bn = tf.contrib.layers.batch_norm(inp, center = True, scale = True, is_training= phase, scope='bn', reuse=tf.AUTO_REUSE)\n",
    "        return tf.nn.relu(bn, name = 'relu')\n",
    "    \n",
    "def max_pooling(inp, kernel_size, strides, name):\n",
    "    return tf.nn.max_pool(inp, ksize=kernel_size, strides=strides, padding='SAME', name=name)\n",
    "\n",
    "def fully_connected(inp, size, scope):\n",
    "    return tf.contrib.layers.fully_connected(inp, size, activation_fn=None, scope=scope, reuse=tf.AUTO_REUSE)"
   ]
  },
  {
   "cell_type": "markdown",
   "metadata": {},
   "source": [
    "### Convolutions\n",
    "\n",
    "I made eight convolutions with relu and max pooling for CNN "
   ]
  },
  {
   "cell_type": "code",
   "execution_count": 9,
   "metadata": {},
   "outputs": [],
   "source": [
    "tf.reset_default_graph() \n",
    "nb_classes = 4\n",
    "phase_ = tf.placeholder(dtype=tf.bool, name = 'phase')\n",
    "X = tf.placeholder(shape=[None, 100, 100, 3], dtype=tf.float32, name='X')\n",
    "Y = tf.placeholder(shape=[None, nb_classes], dtype=tf.float32, name='Y')\n",
    "\n",
    "def model(X):\n",
    "    conv_1 = conv2d(X, 32, [1,1], [1,1], 'conv_1')\n",
    "    relu_1 = relu(conv_1, phase_, 'relu_1')\n",
    "    max_1 = max_pooling(relu_1, [1,2,2,1], [1,1,1,1], 'max_1')\n",
    "    \n",
    "    conv_2 = conv2d(max_1, 128, [1,1], [1,1], 'conv_2')\n",
    "    relu_2 = relu(conv_2, phase_, 'relu_2')\n",
    "    max_2 = max_pooling(relu_2, [1,2,2,1], [1,1,1,1],'max_2')\n",
    "    \n",
    "    conv_3 = conv2d(max_2, 256, [1,1], [1,1], 'conv_3')\n",
    "    relu_3 = relu(conv_3, phase_, 'relu_3')\n",
    "    max_3 = max_pooling(relu_3, [1,2,2,1], [1,2,2,1],'max_3')\n",
    "    \n",
    "    conv_4 = conv2d(max_3, 512, [1,1], [1,1], 'conv_4')\n",
    "    relu_4 = relu(conv_4, phase_, 'relu_4')\n",
    "    max_4 = max_pooling(relu_4, [1,2,2,1], [1,1,1,1],'max_4')\n",
    "    \n",
    "    conv_5 = conv2d(max_4, 512, [1,1], [1,1], 'conv_5')\n",
    "    relu_5 = relu(conv_5, phase_, 'relu_5')\n",
    "    max_5 = max_pooling(relu_5, [1,2,2,1], [1,1,1,1],'max_5')    \n",
    "\n",
    "    conv_6 = conv2d(max_5, 256, [1,1], [1,1], 'conv_6')\n",
    "    relu_6 = relu(conv_6, phase_, 'relu_6')\n",
    "    max_6 = max_pooling(relu_6, [1,2,2,1], [1,2,2,1],'max_6')   \n",
    "    \n",
    "    conv_7 = conv2d(max_6, 256, [1,1], [1,1], 'conv_7')\n",
    "    relu_7 = relu(conv_7, phase_, 'relu_7')\n",
    "    max_7 = max_pooling(relu_7, [1,2,2,1], [1,1,1,1],'max_7')   \n",
    "    \n",
    "    conv_8 = conv2d(max_7, 128, [1,1], [1,1], 'conv_8')\n",
    "    relu_8 = relu(conv_8, phase_, 'relu_8')\n",
    "    max_8 = max_pooling(relu_8, [1,2,2,1], [1,1,1,1],'max_8')   \n",
    "    \n",
    "    \n",
    "    \n",
    "    fc1 = tf.reshape(max_8, [-1, 25*25*128])\n",
    "    fc2 = relu(fully_connected(fc1, 256, 'fully_connected2'), phase_, 'fc_relu')\n",
    "    logits = fully_connected(fc2, nb_classes, 'logits')\n",
    "    \n",
    "    return logits\n",
    "\n",
    "with tf.name_scope('accuracy'):\n",
    "    correct_prediction = tf.equal(tf.argmax(model(X), 1), tf.argmax(Y, 1))\n",
    "    accuracy = tf.reduce_mean(tf.cast(correct_prediction, tf.float32))\n",
    "\n",
    "with tf.name_scope('cost'):\n",
    "     cost = tf.reduce_mean(tf.nn.softmax_cross_entropy_with_logits_v2(logits = model(X), labels = Y))"
   ]
  },
  {
   "cell_type": "code",
   "execution_count": 10,
   "metadata": {},
   "outputs": [],
   "source": [
    "update_ops = tf.get_collection(tf.GraphKeys.UPDATE_OPS)\n",
    "with tf.control_dependencies(update_ops):\n",
    "    optimizer = tf.train.AdamOptimizer(1e-3).minimize(cost)\n",
    "    \n",
    "sess = tf.Session()\n",
    "sess.run(tf.global_variables_initializer())"
   ]
  },
  {
   "cell_type": "code",
   "execution_count": 11,
   "metadata": {},
   "outputs": [],
   "source": [
    "def timestamp():\n",
    "    now = datetime.datetime.now()\n",
    "    nowDate = now.strftime('%H:%M:%S')\n",
    "    print(nowDate)\n",
    "    return None"
   ]
  },
  {
   "cell_type": "markdown",
   "metadata": {},
   "source": [
    "I wanted to see how long it took"
   ]
  },
  {
   "cell_type": "code",
   "execution_count": 20,
   "metadata": {},
   "outputs": [
    {
     "name": "stdout",
     "output_type": "stream",
     "text": [
      "----- started! -----\n",
      "20:15:04\n",
      "Epoch:0001 cost = 0.000019529\n",
      "Epoch:0002 cost = 0.000019592\n",
      "Epoch:0003 cost = 0.000018017\n",
      "Epoch:0004 cost = 0.000017518\n",
      "Epoch:0005 cost = 0.000016533\n",
      "Epoch:0006 cost = 0.000016013\n",
      "Epoch:0007 cost = 0.000015281\n",
      "Epoch:0008 cost = 0.000014844\n",
      "Epoch:0009 cost = 0.000014182\n",
      "Epoch:0010 cost = 0.000013528\n",
      "Epoch:0011 cost = 0.000012945\n",
      "Epoch:0012 cost = 0.000012289\n",
      "Epoch:0013 cost = 0.000011785\n",
      "Epoch:0014 cost = 0.000011173\n",
      "Epoch:0015 cost = 0.000010773\n",
      "Epoch:0016 cost = 0.000010188\n",
      "Epoch:0017 cost = 0.000009877\n",
      "Epoch:0018 cost = 0.000009333\n",
      "Epoch:0019 cost = 0.000009050\n",
      "Epoch:0020 cost = 0.000008550\n",
      "Epoch:0021 cost = 0.000008298\n",
      "Epoch:0022 cost = 0.000007846\n",
      "Epoch:0023 cost = 0.000007637\n",
      "Epoch:0024 cost = 0.000007209\n",
      "Epoch:0025 cost = 0.000007019\n",
      "Epoch:0026 cost = 0.000006623\n",
      "Epoch:0027 cost = 0.000006449\n",
      "Epoch:0028 cost = 0.000006091\n",
      "Epoch:0029 cost = 0.000005949\n",
      "Epoch:0030 cost = 0.000005612\n",
      "Epoch:0031 cost = 0.000005493\n",
      "Epoch:0032 cost = 0.000005169\n",
      "Epoch:0033 cost = 0.000005056\n",
      "Epoch:0034 cost = 0.000004767\n",
      "Epoch:0035 cost = 0.000004662\n",
      "Epoch:0036 cost = 0.000004404\n",
      "Epoch:0037 cost = 0.000004306\n",
      "Epoch:0038 cost = 0.000004067\n",
      "Epoch:0039 cost = 0.000003975\n",
      "Epoch:0040 cost = 0.000003753\n",
      "Epoch:0041 cost = 0.000003676\n",
      "Epoch:0042 cost = 0.000003469\n",
      "Epoch:0043 cost = 0.000003395\n",
      "Epoch:0044 cost = 0.000003212\n",
      "Epoch:0045 cost = 0.000003143\n",
      "Epoch:0046 cost = 0.000002976\n",
      "Epoch:0047 cost = 0.000002912\n",
      "Epoch:0048 cost = 0.000002762\n",
      "Epoch:0049 cost = 0.000002703\n",
      "Epoch:0050 cost = 0.000002564\n",
      "Epoch:0051 cost = 0.000002507\n",
      "Epoch:0052 cost = 0.000002371\n",
      "Epoch:0053 cost = 0.000002321\n",
      "Epoch:0054 cost = 0.000002193\n",
      "Epoch:0055 cost = 0.000002151\n",
      "Epoch:0056 cost = 0.000002033\n",
      "Epoch:0057 cost = 0.000001991\n",
      "Epoch:0058 cost = 0.000001882\n",
      "Epoch:0059 cost = 0.000001845\n",
      "Epoch:0060 cost = 0.000001739\n",
      "Epoch:0061 cost = 0.000001706\n",
      "Epoch:0062 cost = 0.000001611\n",
      "Epoch:0063 cost = 0.000001582\n",
      "Epoch:0064 cost = 0.000001493\n",
      "Epoch:0065 cost = 0.000001466\n",
      "Epoch:0066 cost = 0.000001383\n",
      "Epoch:0067 cost = 0.000001359\n",
      "Epoch:0068 cost = 0.000001285\n",
      "Epoch:0069 cost = 0.000001261\n",
      "Epoch:0070 cost = 0.000001194\n",
      "Epoch:0071 cost = 0.000001170\n",
      "Epoch:0072 cost = 0.000001108\n",
      "Epoch:0073 cost = 0.000001088\n",
      "Epoch:0074 cost = 0.000001030\n",
      "Epoch:0075 cost = 0.000001012\n",
      "Epoch:0076 cost = 0.000000956\n",
      "Epoch:0077 cost = 0.000000938\n",
      "Epoch:0078 cost = 0.000000887\n",
      "Epoch:0079 cost = 0.000000868\n",
      "Epoch:0080 cost = 0.000000823\n",
      "Epoch:0081 cost = 0.000000806\n",
      "Epoch:0082 cost = 0.000000766\n",
      "Epoch:0083 cost = 0.000000750\n",
      "Epoch:0084 cost = 0.000000711\n",
      "Epoch:0085 cost = 0.000000697\n",
      "Epoch:0086 cost = 0.000000661\n",
      "Epoch:0087 cost = 0.000000649\n",
      "Epoch:0088 cost = 0.000000617\n",
      "Epoch:0089 cost = 0.000000605\n",
      "Epoch:0090 cost = 0.000000574\n",
      "Epoch:0091 cost = 0.000000560\n",
      "Epoch:0092 cost = 0.000000530\n",
      "Epoch:0093 cost = 0.000000516\n",
      "Epoch:0094 cost = 0.000000488\n",
      "Epoch:0095 cost = 0.000000475\n",
      "Epoch:0096 cost = 0.000000449\n",
      "Epoch:0097 cost = 0.000000437\n",
      "Epoch:0098 cost = 0.000000412\n",
      "Epoch:0099 cost = 0.000000402\n",
      "Epoch:0100 cost = 0.000000379\n",
      "------ Done! ------\n",
      "21:05:19\n"
     ]
    }
   ],
   "source": [
    "batch = BatchGenerator(trainx, trainy, batch_size=60, nb_classes=nb_classes, one_hot=True)\n",
    "epoches = 100\n",
    "\n",
    "print('----- started! -----')\n",
    "timestamp()\n",
    "for epoch in range(epoches):\n",
    "    avg_cost = 0\n",
    "    for i in range(batch.total_batch):\n",
    "        feed_dict = {'X:0':batch.x, 'Y:0':batch.y, 'phase:0':True}\n",
    "        c, _, = sess.run([cost, optimizer], feed_dict=feed_dict)\n",
    "        avg_cost += c / batch.total_batch\n",
    "        batch.next_batch()\n",
    "    print('Epoch:' '%04d' % (epoch + 1), 'cost =', '{:.9f}'.format(avg_cost))   \n",
    "print('------ Done! ------')\n",
    "timestamp()"
   ]
  },
  {
   "cell_type": "markdown",
   "metadata": {},
   "source": [
    "## Result "
   ]
  },
  {
   "cell_type": "code",
   "execution_count": 21,
   "metadata": {},
   "outputs": [
    {
     "name": "stdout",
     "output_type": "stream",
     "text": [
      "----- TRAIN DATA ACCURACY -----\n",
      "99.87037038361575 %\n",
      "----- TEST DATA ACCURACY -----\n",
      "71.0714284862791 %\n"
     ]
    }
   ],
   "source": [
    "print('----- TRAIN DATA ACCURACY -----')\n",
    "accu  = 0\n",
    "batch = BatchGenerator(trainx, trainy, batch_size=100, nb_classes=nb_classes,one_hot=True)\n",
    "for i in range(batch.total_batch):\n",
    "    feed_dict = {'X:0':batch.x, 'Y:0':batch.y, 'phase:0':True}\n",
    "    accu += sess.run(accuracy, feed_dict=feed_dict) / batch.total_batch\n",
    "    batch.next_batch()\n",
    "\n",
    "print( accu * 100 , '%' )\n",
    "\n",
    "\n",
    "print('----- TEST DATA ACCURACY -----')\n",
    "accu  = 0\n",
    "test = BatchGenerator(testx, testy, batch_size=100,one_hot=True, nb_classes=nb_classes)\n",
    "for i in range(test.total_batch):\n",
    "    feed_dict = {'X:0':test.x, 'Y:0':test.y, 'phase:0':False}\n",
    "    accu += sess.run(accuracy, feed_dict=feed_dict) / test.total_batch\n",
    "    test.next_batch()\n",
    "\n",
    "print( accu * 100 , '%' )"
   ]
  },
  {
   "cell_type": "markdown",
   "metadata": {},
   "source": [
    "## Check result as image"
   ]
  },
  {
   "cell_type": "code",
   "execution_count": 23,
   "metadata": {},
   "outputs": [
    {
     "data": {
      "image/png": "[encoded data removed]",
      "text/plain": [
       "<Figure size 432x288 with 9 Axes>"
      ]
     },
     "metadata": {},
     "output_type": "display_data"
    }
   ],
   "source": [
    "test = BatchGenerator(testx, testy, batch_size=len(testx),one_hot=True, nb_classes=nb_classes)\n",
    "\n",
    "for i in range(9):\n",
    "    \n",
    "    r = random.randint(0, len(test.x))\n",
    "    plt.subplot(3,3,i+1)\n",
    "    \n",
    "    \n",
    "    plt.title('Label: {}, Pre: {}'.format(sess.run(tf.argmax(test.y[r:r+1], 1)),\n",
    "                                                 sess.run(tf.argmax(model(X), 1), \n",
    "                                                          feed_dict={'X:0': test.x[r:r+1], 'phase:0':False})))\n",
    "    b,g,r = cv2.split(test.x[r])\n",
    "    plt.imshow( cv2.merge([r,g,b]))\n",
    "    plt.tight_layout()"
   ]
  },
  {
   "cell_type": "code",
   "execution_count": null,
   "metadata": {},
   "outputs": [],
   "source": []
  },
  {
   "cell_type": "code",
   "execution_count": null,
   "metadata": {},
   "outputs": [],
   "source": []
  }
 ],
 "metadata": {
  "kernelspec": {
   "display_name": "Python 3",
   "language": "python",
   "name": "python3"
  },
  "language_info": {
   "codemirror_mode": {
    "name": "ipython",
    "version": 3
   },
   "file_extension": ".py",
   "mimetype": "text/x-python",
   "name": "python",
   "nbconvert_exporter": "python",
   "pygments_lexer": "ipython3",
   "version": "3.6.5"
  }
 },
 "nbformat": 4,
 "nbformat_minor": 2
}
